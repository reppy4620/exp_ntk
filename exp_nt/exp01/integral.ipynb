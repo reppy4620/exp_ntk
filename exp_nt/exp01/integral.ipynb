{
 "cells": [
  {
   "cell_type": "code",
   "execution_count": 2,
   "metadata": {},
   "outputs": [],
   "source": [
    "import numpy as np\n",
    "import scipy as sp\n",
    "import jax\n",
    "import jax.numpy as jnp"
   ]
  },
  {
   "cell_type": "code",
   "execution_count": 3,
   "metadata": {},
   "outputs": [
    {
     "name": "stderr",
     "output_type": "stream",
     "text": [
      "2022-11-26 10:07:32.601753: W external/org_tensorflow/tensorflow/compiler/xla/service/gpu/nvptx_compiler.cc:492] The NVIDIA driver's CUDA version is 11.7 which is older than the ptxas CUDA version (11.8.89). Because the driver is older than the ptxas version, XLA is disabling parallel compilation, which may slow down compilation. You should update your NVIDIA driver or use the NVIDIA-provided CUDA forward compatibility packages.\n"
     ]
    },
    {
     "name": "stdout",
     "output_type": "stream",
     "text": [
      "0.034118436 0.9658816 0.93292725\n",
      "0.5196476 0.4803524 0.23073843\n",
      "1.0397421 0.039742112 0.0015794354\n",
      "1.0434518 0.043451786 0.0018880577\n",
      "1.0208243 0.020824313 0.00043365202\n",
      "0.9981575 0.0018424988 3.3948018e-06\n",
      "0.99907774 0.00092226267 8.505684e-07\n",
      "0.9993415 0.0006585121 4.336382e-07\n",
      "1.0000969 9.691715e-05 9.392934e-09\n",
      "0.9999979 2.0861626e-06 4.3520743e-12\n"
     ]
    }
   ],
   "source": [
    "key = jax.random.PRNGKey(42)\n",
    "for i in [10 ** n for n in range(10)]:\n",
    "    res = jnp.mean(jax.random.normal(key, (i,)) ** 2)\n",
    "    print(res, jnp.abs(res - 1), (res - 1) ** 2)"
   ]
  },
  {
   "cell_type": "code",
   "execution_count": null,
   "metadata": {},
   "outputs": [],
   "source": [
    "def derivative_chi(chi):\n",
    "    s = 0\n",
    "    for xi in np.random.normal(size=10**10):\n",
    "        min_for_z = np.min((np.random.normal(size=10**10) - xi) ** 2 / (2 * chi))\n",
    "        s += min_for_z\n",
    "        "
   ]
  }
 ],
 "metadata": {
  "kernelspec": {
   "display_name": "Python 3.9.13 ('jax')",
   "language": "python",
   "name": "python3"
  },
  "language_info": {
   "codemirror_mode": {
    "name": "ipython",
    "version": 3
   },
   "file_extension": ".py",
   "mimetype": "text/x-python",
   "name": "python",
   "nbconvert_exporter": "python",
   "pygments_lexer": "ipython3",
   "version": "3.9.13"
  },
  "orig_nbformat": 4,
  "vscode": {
   "interpreter": {
    "hash": "e0e5c959a5c4b954ee47f0140577ca95309cfcd07940fb9e699bda412da8fccf"
   }
  }
 },
 "nbformat": 4,
 "nbformat_minor": 2
}
