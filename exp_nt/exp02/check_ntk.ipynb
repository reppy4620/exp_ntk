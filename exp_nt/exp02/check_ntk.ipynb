{
 "cells": [
  {
   "cell_type": "code",
   "execution_count": 1,
   "metadata": {},
   "outputs": [
    {
     "name": "stderr",
     "output_type": "stream",
     "text": [
      "2022-11-29 15:57:44.849997: I tensorflow/core/platform/cpu_feature_guard.cc:193] This TensorFlow binary is optimized with oneAPI Deep Neural Network Library (oneDNN) to use the following CPU instructions in performance-critical operations:  AVX2 AVX512F FMA\n",
      "To enable them in other operations, rebuild TensorFlow with the appropriate compiler flags.\n",
      "2022-11-29 15:57:45.761438: W tensorflow/compiler/xla/stream_executor/platform/default/dso_loader.cc:64] Could not load dynamic library 'libnvinfer.so.7'; dlerror: libnvinfer.so.7: cannot open shared object file: No such file or directory; LD_LIBRARY_PATH: /home/shimizu-reo/cudas/lib64:/usr/local/cuda/lib64:/usr/local/cuda/lib64:\n",
      "2022-11-29 15:57:45.761558: W tensorflow/compiler/xla/stream_executor/platform/default/dso_loader.cc:64] Could not load dynamic library 'libnvinfer_plugin.so.7'; dlerror: libnvinfer_plugin.so.7: cannot open shared object file: No such file or directory; LD_LIBRARY_PATH: /home/shimizu-reo/cudas/lib64:/usr/local/cuda/lib64:/usr/local/cuda/lib64:\n",
      "2022-11-29 15:57:45.761567: W tensorflow/compiler/tf2tensorrt/utils/py_utils.cc:38] TF-TRT Warning: Cannot dlopen some TensorRT libraries. If you would like to use Nvidia GPU with TensorRT, please make sure the missing libraries mentioned above are installed properly.\n"
     ]
    }
   ],
   "source": [
    "import tensorflow as tf\n",
    "tf.config.set_visible_devices([], 'GPU')"
   ]
  },
  {
   "cell_type": "code",
   "execution_count": 2,
   "metadata": {},
   "outputs": [],
   "source": [
    "import numpy as np\n",
    "import matplotlib.pyplot as plt\n",
    "import jax\n",
    "import jax.numpy as jnp\n",
    "\n",
    "import neural_tangents as nt\n",
    "from neural_tangents import stax\n",
    "\n",
    "import tensorflow_datasets as tfds\n",
    "import scipy as sp\n",
    "from tqdm import tqdm"
   ]
  },
  {
   "cell_type": "code",
   "execution_count": 3,
   "metadata": {},
   "outputs": [],
   "source": [
    "num_classes = 10"
   ]
  },
  {
   "cell_type": "code",
   "execution_count": 4,
   "metadata": {},
   "outputs": [],
   "source": [
    "train_ds, test_ds = tfds.load('mnist:3.*.*', split=['train', 'test'])\n",
    "\n",
    "def preprocess(x):\n",
    "    image, label = x['image'], x['label']\n",
    "    image = tf.cast(image, tf.float64)\n",
    "    image = image / 255.\n",
    "    image = tf.reshape(image, (-1,))\n",
    "    return image, label\n",
    "\n",
    "train_ds = train_ds.map(preprocess).as_numpy_iterator()\n",
    "test_ds = test_ds.map(preprocess).as_numpy_iterator()\n",
    "\n",
    "def load_x_y(ds):\n",
    "    x_list, y_list = [], []\n",
    "    for x, y in ds:\n",
    "        x = x / np.linalg.norm(x)\n",
    "        y = np.eye(num_classes)[y]\n",
    "        x_list.append(x)\n",
    "        y_list.append(y)\n",
    "    return np.stack(x_list, axis=0), np.stack(y_list, axis=0)\n",
    "\n",
    "train_x, train_y = load_x_y(train_ds)\n",
    "test_x, test_y = load_x_y(test_ds)"
   ]
  },
  {
   "cell_type": "code",
   "execution_count": 9,
   "metadata": {},
   "outputs": [],
   "source": [
    "def exp(train_x, test_x, train_y, test_y, mid_channels):\n",
    "    np.random.seed(42)\n",
    "    train_length = 20000\n",
    "    test_length = 10000\n",
    "    inds = np.random.randint(0, train_x.shape[0], train_length)\n",
    "    train_x = train_x[inds]\n",
    "    train_y = train_y[inds]\n",
    "    inds = np.random.randint(0, test_x.shape[0], test_length)\n",
    "    test_x = test_x[inds]\n",
    "    test_y = test_y[inds]\n",
    "\n",
    "    # _,_,kernel_fn = stax.serial(stax.Dense(mid_channels), stax.Relu(), stax.Dense(num_classes))\n",
    "\n",
    "    init_fn, apply_fn, kernel_fn = stax.serial(\n",
    "        stax.Dense(mid_channels, parameterization='ntk', b_std=None),\n",
    "        stax.Relu(),\n",
    "        stax.Dense(num_classes, parameterization='ntk', b_std=None)\n",
    "    )\n",
    "    kernel_fn = jax.jit(kernel_fn, static_argnums=(2,))\n",
    "\n",
    "    all_x = np.concatenate([train_x, test_x], axis=0)\n",
    "    K = kernel_fn(all_x, all_x, 'ntk')\n",
    "\n",
    "    K_train = K[:train_length, :train_length]\n",
    "    K_test = K[:train_length, train_length:]\n",
    "\n",
    "    def predict():\n",
    "        return K_test.T @ jnp.linalg.inv(K_train + K_train.shape[0] * 1e-8 * jnp.eye(K_train.shape[0])) @ train_y\n",
    "\n",
    "    def evaluate():\n",
    "        pred = predict()\n",
    "        y_pred = jnp.argmax(pred, axis=-1)\n",
    "        gt = jnp.argmax(test_y, axis=-1)\n",
    "        accuracy = jnp.mean(y_pred == gt)\n",
    "        return y_pred, accuracy\n",
    "\n",
    "    _, acc = evaluate()\n",
    "\n",
    "    print(mid_channels, acc)"
   ]
  },
  {
   "cell_type": "code",
   "execution_count": 10,
   "metadata": {},
   "outputs": [
    {
     "name": "stdout",
     "output_type": "stream",
     "text": [
      "256 0.9723\n",
      "512 0.9723\n",
      "1024 0.9723\n",
      "2048 0.9723\n",
      "4096 0.9723\n"
     ]
    }
   ],
   "source": [
    "for mid_channels in [256, 512, 1024, 2048, 4096]:\n",
    "    exp(train_x, test_x, train_y, test_y, mid_channels)"
   ]
  },
  {
   "cell_type": "code",
   "execution_count": null,
   "metadata": {},
   "outputs": [],
   "source": []
  }
 ],
 "metadata": {
  "kernelspec": {
   "display_name": "Python 3.10.8 ('jax')",
   "language": "python",
   "name": "python3"
  },
  "language_info": {
   "codemirror_mode": {
    "name": "ipython",
    "version": 3
   },
   "file_extension": ".py",
   "mimetype": "text/x-python",
   "name": "python",
   "nbconvert_exporter": "python",
   "pygments_lexer": "ipython3",
   "version": "3.10.8"
  },
  "orig_nbformat": 4,
  "vscode": {
   "interpreter": {
    "hash": "d794adcfba8ff0d26996fd1c0a2286040d6777323b371e8d29bd36adcb09b446"
   }
  }
 },
 "nbformat": 4,
 "nbformat_minor": 2
}
