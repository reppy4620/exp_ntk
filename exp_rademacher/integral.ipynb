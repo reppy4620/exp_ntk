{
 "cells": [
  {
   "cell_type": "code",
   "execution_count": null,
   "metadata": {},
   "outputs": [],
   "source": [
    "import numpy as np\n",
    "import scipy as sp\n",
    "import jax\n",
    "import jax.numpy as jnp\n",
    "import matplotlib.pyplot as plt\n",
    "from tqdm import tqdm"
   ]
  },
  {
   "cell_type": "code",
   "execution_count": 2,
   "metadata": {},
   "outputs": [],
   "source": [
    "def eqn1(alpha, n=10**2, temp=10**4):\n",
    "    term1 = -np.sqrt(alpha) / 2\n",
    "    term2 = 0\n",
    "    key = jax.random.PRNGKey(42)\n",
    "\n",
    "    @jax.jit\n",
    "    def body(xi, key):\n",
    "        z = jax.random.normal(key, (temp,))\n",
    "        min_z = jnp.amin((y == jnp.sign(z)).astype(jnp.float32) + np.sqrt(alpha) / 2 * (z - xi) ** 2)\n",
    "        return min_z\n",
    "\n",
    "    for y in [1, -1]:\n",
    "        s = 0\n",
    "        for _ in range(n):\n",
    "            key_xi, key_z = jax.random.split(key)\n",
    "            keys = jax.random.split(key_z, temp)\n",
    "            s += jnp.sum(jax.vmap(body)(jax.random.normal(key_xi, (len(keys),)), keys)) / temp\n",
    "        term2 += s / n\n",
    "    term2 = alpha / 2 * term2\n",
    "    e_gs = term1 + term2\n",
    "    return 1 - 2 / alpha * e_gs"
   ]
  },
  {
   "cell_type": "code",
   "execution_count": 3,
   "metadata": {},
   "outputs": [
    {
     "name": "stderr",
     "output_type": "stream",
     "text": [
      "  0%|          | 0/100 [00:00<?, ?it/s]2022-11-28 15:34:04.952304: W external/org_tensorflow/tensorflow/compiler/xla/service/gpu/nvptx_compiler.cc:492] The NVIDIA driver's CUDA version is 11.7 which is older than the ptxas CUDA version (11.8.89). Because the driver is older than the ptxas version, XLA is disabling parallel compilation, which may slow down compilation. You should update your NVIDIA driver or use the NVIDIA-provided CUDA forward compatibility packages.\n",
      "100%|██████████| 100/100 [01:22<00:00,  1.22it/s]\n"
     ]
    }
   ],
   "source": [
    "alphas = np.linspace(1e-3, 20, 100)\n",
    "res = [eqn1(a) for a in tqdm(alphas)]\n",
    "res = [x / max(res) for x in res]"
   ]
  },
  {
   "cell_type": "code",
   "execution_count": 4,
   "metadata": {},
   "outputs": [
    {
     "data": {
      "text/plain": [
       "[<matplotlib.lines.Line2D at 0x7feaf041fc70>]"
      ]
     },
     "execution_count": 4,
     "metadata": {},
     "output_type": "execute_result"
    },
    {
     "data": {
      "image/png": "[encoded data removed]",
      "text/plain": [
       "<Figure size 640x480 with 1 Axes>"
      ]
     },
     "metadata": {},
     "output_type": "display_data"
    }
   ],
   "source": [
    "plt.plot(alphas, res)"
   ]
  },
  {
   "cell_type": "code",
   "execution_count": null,
   "metadata": {},
   "outputs": [],
   "source": []
  }
 ],
 "metadata": {
  "kernelspec": {
   "display_name": "Python 3.9.13 ('jax')",
   "language": "python",
   "name": "python3"
  },
  "language_info": {
   "codemirror_mode": {
    "name": "ipython",
    "version": 3
   },
   "file_extension": ".py",
   "mimetype": "text/x-python",
   "name": "python",
   "nbconvert_exporter": "python",
   "pygments_lexer": "ipython3",
   "version": "3.9.13"
  },
  "orig_nbformat": 4,
  "vscode": {
   "interpreter": {
    "hash": "e0e5c959a5c4b954ee47f0140577ca95309cfcd07940fb9e699bda412da8fccf"
   }
  }
 },
 "nbformat": 4,
 "nbformat_minor": 2
}
