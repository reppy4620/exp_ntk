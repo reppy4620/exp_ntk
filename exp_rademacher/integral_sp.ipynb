{
 "cells": [
  {
   "cell_type": "code",
   "execution_count": 1,
   "metadata": {},
   "outputs": [],
   "source": [
    "import numpy as np\n",
    "import scipy as sp\n",
    "from scipy.optimize import minimize_scalar, minimize\n",
    "import matplotlib.pyplot as plt\n",
    "from tqdm import tqdm"
   ]
  },
  {
   "cell_type": "code",
   "execution_count": 2,
   "metadata": {},
   "outputs": [],
   "source": [
    "def eqn_sp(alpha):\n",
    "\n",
    "    def gaussian(z, mean=0, var=1):\n",
    "        return np.exp(-0.5 * (z - mean) ** 2 / var) / np.sqrt(2 * np.pi * var)\n",
    "\n",
    "    def f_z(z, *args):\n",
    "        y, xi, chi = args\n",
    "        return float(y != np.sign(z)) + (z - xi) ** 2 / (2 * chi + 1e-8)\n",
    "\n",
    "    def extr(chi):\n",
    "        term1 = -1 / (2 * chi + 1e-8)\n",
    "        term2 = alpha * 0.5 * (\n",
    "            sp.integrate.quad(\n",
    "                lambda xi: gaussian(xi) * minimize_scalar(f_z, args=(1, xi, chi)).fun,\n",
    "                a=-np.inf, b=np.inf\n",
    "            )[0]\n",
    "            + sp.integrate.quad(\n",
    "                lambda xi: gaussian(xi) * minimize_scalar(f_z, args=(-1, xi, chi)).fun,\n",
    "                a=-np.inf, b=np.inf\n",
    "            )[0]\n",
    "        )\n",
    "        e_gs = term1 + term2\n",
    "        return e_gs\n",
    "    \n",
    "    res = minimize_scalar(lambda chi: -extr(chi))\n",
    "    return 1 - 2 / alpha * (-res.fun)"
   ]
  },
  {
   "cell_type": "code",
   "execution_count": 3,
   "metadata": {},
   "outputs": [
    {
     "name": "stderr",
     "output_type": "stream",
     "text": [
      "100%|██████████| 50/50 [13:21<00:00, 16.02s/it]\n"
     ]
    }
   ],
   "source": [
    "alphas = np.linspace(1e-3, 20, 50)\n",
    "res = [eqn_sp(a) for a in tqdm(alphas)]"
   ]
  },
  {
   "cell_type": "code",
   "execution_count": 4,
   "metadata": {},
   "outputs": [
    {
     "data": {
      "text/plain": [
       "[<matplotlib.lines.Line2D at 0x7f8715774d30>]"
      ]
     },
     "execution_count": 4,
     "metadata": {},
     "output_type": "execute_result"
    },
    {
     "data": {
      "image/png": "[encoded data removed]",
      "text/plain": [
       "<Figure size 640x480 with 1 Axes>"
      ]
     },
     "metadata": {},
     "output_type": "display_data"
    }
   ],
   "source": [
    "plt.plot(alphas, res)"
   ]
  },
  {
   "cell_type": "code",
   "execution_count": 5,
   "metadata": {},
   "outputs": [],
   "source": [
    "def eqn_sp_rsb(alpha):\n",
    "\n",
    "    def gaussian(z, mean=0, var=1):\n",
    "        return np.exp(-0.5 * (z - mean) ** 2 / var) / np.sqrt(2 * np.pi * var)\n",
    "\n",
    "    def f_z(z, *args):\n",
    "        y, xi_0, xi_1, chi, q_0 = args\n",
    "        return float(y != np.sign(z)) + (z - np.sqrt(q_0) * xi_0 - np.sqrt(1 - q_0) * xi_1) ** 2 / (2 * chi + 1e-8)\n",
    "\n",
    "    def extr(x):\n",
    "        chi, omega_0, q_0 = x\n",
    "\n",
    "        term1 = 1/(2 * omega_0 * chi + 1e-8) * np.log(1 + omega_0 * (1 - q_0))\n",
    "        term2 = q_0 / (2 * chi * (1 + omega_0 * (1 - q_0)) + 1e-8)\n",
    "        term3 = alpha / (chi * omega_0) * 0.5  * (\n",
    "            sp.integrate.quad(\n",
    "                lambda xi_0: gaussian(xi_0) * np.log(\n",
    "                    sp.integrate.quad(\n",
    "                        lambda xi_1: gaussian(xi_1) * np.exp(\n",
    "                            -omega_0 * chi * minimize_scalar(f_z, args=(1, xi_0, xi_1, chi, q_0)).fun\n",
    "                        ),\n",
    "                        a=-10, b=10\n",
    "                    )[0]\n",
    "                ),\n",
    "                a=-10, b=10\n",
    "            )[0]\n",
    "            + sp.integrate.quad(\n",
    "                lambda xi_0: gaussian(xi_0) * np.log(\n",
    "                    sp.integrate.quad(\n",
    "                        lambda xi_1: gaussian(xi_1) * np.exp(\n",
    "                            -omega_0 * chi * minimize_scalar(f_z, args=(-1, xi_0, xi_1, chi, q_0)).fun\n",
    "                        ),\n",
    "                        a=-10, b=10\n",
    "                    )[0]\n",
    "                ),\n",
    "                a=-10, b=10\n",
    "            )[0]\n",
    "        )\n",
    "        e_gs = term1 + term2 + term3\n",
    "        return e_gs\n",
    "    \n",
    "    cons = (\n",
    "        {\"type\": \"ineq\", \"fun\": lambda x: x[2]},\n",
    "        {\"type\": \"ineq\", \"fun\": lambda x: 1 - x[2]},\n",
    "    )\n",
    "    res = minimize(lambda x: -extr(x), x0=[0.5, 0.5, 0.5], constraints=cons)\n",
    "    return 1 - 2 / alpha * (-res.fun)"
   ]
  }
 ],
 "metadata": {
  "kernelspec": {
   "display_name": "Python 3.10.8 ('jax')",
   "language": "python",
   "name": "python3"
  },
  "language_info": {
   "codemirror_mode": {
    "name": "ipython",
    "version": 3
   },
   "file_extension": ".py",
   "mimetype": "text/x-python",
   "name": "python",
   "nbconvert_exporter": "python",
   "pygments_lexer": "ipython3",
   "version": "3.10.8"
  },
  "orig_nbformat": 4,
  "vscode": {
   "interpreter": {
    "hash": "d794adcfba8ff0d26996fd1c0a2286040d6777323b371e8d29bd36adcb09b446"
   }
  }
 },
 "nbformat": 4,
 "nbformat_minor": 2
}
